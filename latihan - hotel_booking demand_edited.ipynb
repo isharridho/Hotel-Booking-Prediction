{
 "cells": [
  {
   "cell_type": "code",
   "execution_count": 1,
   "metadata": {},
   "outputs": [],
   "source": [
    "# Bismillah\n",
    "\n",
    "# Tanda-tanda orang akan canceled booking hotel atau tidak\n",
    "import pandas as pd\n",
    "import numpy as np\n",
    "import seaborn as sns\n",
    "import matplotlib.pyplot as plt\n",
    "%matplotlib inline\n",
    "import warnings\n",
    "warnings.filterwarnings('ignore')"
   ]
  },
  {
   "cell_type": "code",
   "execution_count": 2,
   "metadata": {},
   "outputs": [
    {
     "data": {
      "text/html": [
       "<div>\n",
       "<style scoped>\n",
       "    .dataframe tbody tr th:only-of-type {\n",
       "        vertical-align: middle;\n",
       "    }\n",
       "\n",
       "    .dataframe tbody tr th {\n",
       "        vertical-align: top;\n",
       "    }\n",
       "\n",
       "    .dataframe thead th {\n",
       "        text-align: right;\n",
       "    }\n",
       "</style>\n",
       "<table border=\"1\" class=\"dataframe\">\n",
       "  <thead>\n",
       "    <tr style=\"text-align: right;\">\n",
       "      <th></th>\n",
       "      <th>hotel</th>\n",
       "      <th>is_canceled</th>\n",
       "      <th>adults</th>\n",
       "      <th>children</th>\n",
       "      <th>babies</th>\n",
       "      <th>meal</th>\n",
       "      <th>country</th>\n",
       "      <th>market_segment</th>\n",
       "      <th>distribution_channel</th>\n",
       "      <th>reserved_room_type</th>\n",
       "      <th>booking_changes</th>\n",
       "      <th>deposit_type</th>\n",
       "      <th>customer_type</th>\n",
       "      <th>total_of_special_requests</th>\n",
       "    </tr>\n",
       "  </thead>\n",
       "  <tbody>\n",
       "    <tr>\n",
       "      <th>0</th>\n",
       "      <td>Resort Hotel</td>\n",
       "      <td>0</td>\n",
       "      <td>2</td>\n",
       "      <td>0.0</td>\n",
       "      <td>0</td>\n",
       "      <td>BB</td>\n",
       "      <td>PRT</td>\n",
       "      <td>Direct</td>\n",
       "      <td>Direct</td>\n",
       "      <td>C</td>\n",
       "      <td>3</td>\n",
       "      <td>No Deposit</td>\n",
       "      <td>Transient</td>\n",
       "      <td>0</td>\n",
       "    </tr>\n",
       "    <tr>\n",
       "      <th>1</th>\n",
       "      <td>Resort Hotel</td>\n",
       "      <td>0</td>\n",
       "      <td>2</td>\n",
       "      <td>0.0</td>\n",
       "      <td>0</td>\n",
       "      <td>BB</td>\n",
       "      <td>PRT</td>\n",
       "      <td>Direct</td>\n",
       "      <td>Direct</td>\n",
       "      <td>C</td>\n",
       "      <td>4</td>\n",
       "      <td>No Deposit</td>\n",
       "      <td>Transient</td>\n",
       "      <td>0</td>\n",
       "    </tr>\n",
       "    <tr>\n",
       "      <th>2</th>\n",
       "      <td>Resort Hotel</td>\n",
       "      <td>0</td>\n",
       "      <td>1</td>\n",
       "      <td>0.0</td>\n",
       "      <td>0</td>\n",
       "      <td>BB</td>\n",
       "      <td>GBR</td>\n",
       "      <td>Direct</td>\n",
       "      <td>Direct</td>\n",
       "      <td>A</td>\n",
       "      <td>0</td>\n",
       "      <td>No Deposit</td>\n",
       "      <td>Transient</td>\n",
       "      <td>0</td>\n",
       "    </tr>\n",
       "    <tr>\n",
       "      <th>3</th>\n",
       "      <td>Resort Hotel</td>\n",
       "      <td>0</td>\n",
       "      <td>1</td>\n",
       "      <td>0.0</td>\n",
       "      <td>0</td>\n",
       "      <td>BB</td>\n",
       "      <td>GBR</td>\n",
       "      <td>Corporate</td>\n",
       "      <td>Corporate</td>\n",
       "      <td>A</td>\n",
       "      <td>0</td>\n",
       "      <td>No Deposit</td>\n",
       "      <td>Transient</td>\n",
       "      <td>0</td>\n",
       "    </tr>\n",
       "    <tr>\n",
       "      <th>4</th>\n",
       "      <td>Resort Hotel</td>\n",
       "      <td>0</td>\n",
       "      <td>2</td>\n",
       "      <td>0.0</td>\n",
       "      <td>0</td>\n",
       "      <td>BB</td>\n",
       "      <td>GBR</td>\n",
       "      <td>Online TA</td>\n",
       "      <td>TA/TO</td>\n",
       "      <td>A</td>\n",
       "      <td>0</td>\n",
       "      <td>No Deposit</td>\n",
       "      <td>Transient</td>\n",
       "      <td>1</td>\n",
       "    </tr>\n",
       "  </tbody>\n",
       "</table>\n",
       "</div>"
      ],
      "text/plain": [
       "          hotel  is_canceled  adults  children  babies meal country  \\\n",
       "0  Resort Hotel            0       2       0.0       0   BB     PRT   \n",
       "1  Resort Hotel            0       2       0.0       0   BB     PRT   \n",
       "2  Resort Hotel            0       1       0.0       0   BB     GBR   \n",
       "3  Resort Hotel            0       1       0.0       0   BB     GBR   \n",
       "4  Resort Hotel            0       2       0.0       0   BB     GBR   \n",
       "\n",
       "  market_segment distribution_channel reserved_room_type  booking_changes  \\\n",
       "0         Direct               Direct                  C                3   \n",
       "1         Direct               Direct                  C                4   \n",
       "2         Direct               Direct                  A                0   \n",
       "3      Corporate            Corporate                  A                0   \n",
       "4      Online TA                TA/TO                  A                0   \n",
       "\n",
       "  deposit_type customer_type  total_of_special_requests  \n",
       "0   No Deposit     Transient                          0  \n",
       "1   No Deposit     Transient                          0  \n",
       "2   No Deposit     Transient                          0  \n",
       "3   No Deposit     Transient                          0  \n",
       "4   No Deposit     Transient                          1  "
      ]
     },
     "execution_count": 2,
     "metadata": {},
     "output_type": "execute_result"
    }
   ],
   "source": [
    "hotel = pd.read_csv('hotel_bookings.csv', usecols = ['hotel', 'is_canceled','adults','children','babies',\n",
    "                                                     'meal','country','market_segment','distribution_channel',\n",
    "                                                    'reserved_room_type', 'booking_changes', 'deposit_type', \n",
    "                                                     'customer_type', 'total_of_special_requests'])\n",
    "hotel.head()"
   ]
  },
  {
   "cell_type": "code",
   "execution_count": 3,
   "metadata": {},
   "outputs": [
    {
     "name": "stdout",
     "output_type": "stream",
     "text": [
      "<class 'pandas.core.frame.DataFrame'>\n",
      "RangeIndex: 119390 entries, 0 to 119389\n",
      "Data columns (total 14 columns):\n",
      " #   Column                     Non-Null Count   Dtype  \n",
      "---  ------                     --------------   -----  \n",
      " 0   hotel                      119390 non-null  object \n",
      " 1   is_canceled                119390 non-null  int64  \n",
      " 2   adults                     119390 non-null  int64  \n",
      " 3   children                   119386 non-null  float64\n",
      " 4   babies                     119390 non-null  int64  \n",
      " 5   meal                       119390 non-null  object \n",
      " 6   country                    118902 non-null  object \n",
      " 7   market_segment             119390 non-null  object \n",
      " 8   distribution_channel       119390 non-null  object \n",
      " 9   reserved_room_type         119390 non-null  object \n",
      " 10  booking_changes            119390 non-null  int64  \n",
      " 11  deposit_type               119390 non-null  object \n",
      " 12  customer_type              119390 non-null  object \n",
      " 13  total_of_special_requests  119390 non-null  int64  \n",
      "dtypes: float64(1), int64(5), object(8)\n",
      "memory usage: 12.8+ MB\n"
     ]
    }
   ],
   "source": [
    "hotel.info()"
   ]
  },
  {
   "cell_type": "code",
   "execution_count": 4,
   "metadata": {},
   "outputs": [
    {
     "data": {
      "text/html": [
       "<div>\n",
       "<style scoped>\n",
       "    .dataframe tbody tr th:only-of-type {\n",
       "        vertical-align: middle;\n",
       "    }\n",
       "\n",
       "    .dataframe tbody tr th {\n",
       "        vertical-align: top;\n",
       "    }\n",
       "\n",
       "    .dataframe thead th {\n",
       "        text-align: right;\n",
       "    }\n",
       "</style>\n",
       "<table border=\"1\" class=\"dataframe\">\n",
       "  <thead>\n",
       "    <tr style=\"text-align: right;\">\n",
       "      <th></th>\n",
       "      <th>hotel</th>\n",
       "      <th>is_canceled</th>\n",
       "      <th>adults</th>\n",
       "      <th>children</th>\n",
       "      <th>babies</th>\n",
       "      <th>meal</th>\n",
       "      <th>country</th>\n",
       "      <th>market_segment</th>\n",
       "      <th>distribution_channel</th>\n",
       "      <th>reserved_room_type</th>\n",
       "      <th>booking_changes</th>\n",
       "      <th>deposit_type</th>\n",
       "      <th>customer_type</th>\n",
       "      <th>total_of_special_requests</th>\n",
       "    </tr>\n",
       "  </thead>\n",
       "  <tbody>\n",
       "    <tr>\n",
       "      <th>count</th>\n",
       "      <td>119390</td>\n",
       "      <td>119390.000000</td>\n",
       "      <td>119390.000000</td>\n",
       "      <td>119386.000000</td>\n",
       "      <td>119390.000000</td>\n",
       "      <td>119390</td>\n",
       "      <td>118902</td>\n",
       "      <td>119390</td>\n",
       "      <td>119390</td>\n",
       "      <td>119390</td>\n",
       "      <td>119390.000000</td>\n",
       "      <td>119390</td>\n",
       "      <td>119390</td>\n",
       "      <td>119390.000000</td>\n",
       "    </tr>\n",
       "    <tr>\n",
       "      <th>unique</th>\n",
       "      <td>2</td>\n",
       "      <td>NaN</td>\n",
       "      <td>NaN</td>\n",
       "      <td>NaN</td>\n",
       "      <td>NaN</td>\n",
       "      <td>5</td>\n",
       "      <td>177</td>\n",
       "      <td>8</td>\n",
       "      <td>5</td>\n",
       "      <td>10</td>\n",
       "      <td>NaN</td>\n",
       "      <td>3</td>\n",
       "      <td>4</td>\n",
       "      <td>NaN</td>\n",
       "    </tr>\n",
       "    <tr>\n",
       "      <th>top</th>\n",
       "      <td>City Hotel</td>\n",
       "      <td>NaN</td>\n",
       "      <td>NaN</td>\n",
       "      <td>NaN</td>\n",
       "      <td>NaN</td>\n",
       "      <td>BB</td>\n",
       "      <td>PRT</td>\n",
       "      <td>Online TA</td>\n",
       "      <td>TA/TO</td>\n",
       "      <td>A</td>\n",
       "      <td>NaN</td>\n",
       "      <td>No Deposit</td>\n",
       "      <td>Transient</td>\n",
       "      <td>NaN</td>\n",
       "    </tr>\n",
       "    <tr>\n",
       "      <th>freq</th>\n",
       "      <td>79330</td>\n",
       "      <td>NaN</td>\n",
       "      <td>NaN</td>\n",
       "      <td>NaN</td>\n",
       "      <td>NaN</td>\n",
       "      <td>92310</td>\n",
       "      <td>48590</td>\n",
       "      <td>56477</td>\n",
       "      <td>97870</td>\n",
       "      <td>85994</td>\n",
       "      <td>NaN</td>\n",
       "      <td>104641</td>\n",
       "      <td>89613</td>\n",
       "      <td>NaN</td>\n",
       "    </tr>\n",
       "    <tr>\n",
       "      <th>mean</th>\n",
       "      <td>NaN</td>\n",
       "      <td>0.370416</td>\n",
       "      <td>1.856403</td>\n",
       "      <td>0.103890</td>\n",
       "      <td>0.007949</td>\n",
       "      <td>NaN</td>\n",
       "      <td>NaN</td>\n",
       "      <td>NaN</td>\n",
       "      <td>NaN</td>\n",
       "      <td>NaN</td>\n",
       "      <td>0.221124</td>\n",
       "      <td>NaN</td>\n",
       "      <td>NaN</td>\n",
       "      <td>0.571363</td>\n",
       "    </tr>\n",
       "    <tr>\n",
       "      <th>std</th>\n",
       "      <td>NaN</td>\n",
       "      <td>0.482918</td>\n",
       "      <td>0.579261</td>\n",
       "      <td>0.398561</td>\n",
       "      <td>0.097436</td>\n",
       "      <td>NaN</td>\n",
       "      <td>NaN</td>\n",
       "      <td>NaN</td>\n",
       "      <td>NaN</td>\n",
       "      <td>NaN</td>\n",
       "      <td>0.652306</td>\n",
       "      <td>NaN</td>\n",
       "      <td>NaN</td>\n",
       "      <td>0.792798</td>\n",
       "    </tr>\n",
       "    <tr>\n",
       "      <th>min</th>\n",
       "      <td>NaN</td>\n",
       "      <td>0.000000</td>\n",
       "      <td>0.000000</td>\n",
       "      <td>0.000000</td>\n",
       "      <td>0.000000</td>\n",
       "      <td>NaN</td>\n",
       "      <td>NaN</td>\n",
       "      <td>NaN</td>\n",
       "      <td>NaN</td>\n",
       "      <td>NaN</td>\n",
       "      <td>0.000000</td>\n",
       "      <td>NaN</td>\n",
       "      <td>NaN</td>\n",
       "      <td>0.000000</td>\n",
       "    </tr>\n",
       "    <tr>\n",
       "      <th>25%</th>\n",
       "      <td>NaN</td>\n",
       "      <td>0.000000</td>\n",
       "      <td>2.000000</td>\n",
       "      <td>0.000000</td>\n",
       "      <td>0.000000</td>\n",
       "      <td>NaN</td>\n",
       "      <td>NaN</td>\n",
       "      <td>NaN</td>\n",
       "      <td>NaN</td>\n",
       "      <td>NaN</td>\n",
       "      <td>0.000000</td>\n",
       "      <td>NaN</td>\n",
       "      <td>NaN</td>\n",
       "      <td>0.000000</td>\n",
       "    </tr>\n",
       "    <tr>\n",
       "      <th>50%</th>\n",
       "      <td>NaN</td>\n",
       "      <td>0.000000</td>\n",
       "      <td>2.000000</td>\n",
       "      <td>0.000000</td>\n",
       "      <td>0.000000</td>\n",
       "      <td>NaN</td>\n",
       "      <td>NaN</td>\n",
       "      <td>NaN</td>\n",
       "      <td>NaN</td>\n",
       "      <td>NaN</td>\n",
       "      <td>0.000000</td>\n",
       "      <td>NaN</td>\n",
       "      <td>NaN</td>\n",
       "      <td>0.000000</td>\n",
       "    </tr>\n",
       "    <tr>\n",
       "      <th>75%</th>\n",
       "      <td>NaN</td>\n",
       "      <td>1.000000</td>\n",
       "      <td>2.000000</td>\n",
       "      <td>0.000000</td>\n",
       "      <td>0.000000</td>\n",
       "      <td>NaN</td>\n",
       "      <td>NaN</td>\n",
       "      <td>NaN</td>\n",
       "      <td>NaN</td>\n",
       "      <td>NaN</td>\n",
       "      <td>0.000000</td>\n",
       "      <td>NaN</td>\n",
       "      <td>NaN</td>\n",
       "      <td>1.000000</td>\n",
       "    </tr>\n",
       "    <tr>\n",
       "      <th>max</th>\n",
       "      <td>NaN</td>\n",
       "      <td>1.000000</td>\n",
       "      <td>55.000000</td>\n",
       "      <td>10.000000</td>\n",
       "      <td>10.000000</td>\n",
       "      <td>NaN</td>\n",
       "      <td>NaN</td>\n",
       "      <td>NaN</td>\n",
       "      <td>NaN</td>\n",
       "      <td>NaN</td>\n",
       "      <td>21.000000</td>\n",
       "      <td>NaN</td>\n",
       "      <td>NaN</td>\n",
       "      <td>5.000000</td>\n",
       "    </tr>\n",
       "  </tbody>\n",
       "</table>\n",
       "</div>"
      ],
      "text/plain": [
       "             hotel    is_canceled         adults       children  \\\n",
       "count       119390  119390.000000  119390.000000  119386.000000   \n",
       "unique           2            NaN            NaN            NaN   \n",
       "top     City Hotel            NaN            NaN            NaN   \n",
       "freq         79330            NaN            NaN            NaN   \n",
       "mean           NaN       0.370416       1.856403       0.103890   \n",
       "std            NaN       0.482918       0.579261       0.398561   \n",
       "min            NaN       0.000000       0.000000       0.000000   \n",
       "25%            NaN       0.000000       2.000000       0.000000   \n",
       "50%            NaN       0.000000       2.000000       0.000000   \n",
       "75%            NaN       1.000000       2.000000       0.000000   \n",
       "max            NaN       1.000000      55.000000      10.000000   \n",
       "\n",
       "               babies    meal country market_segment distribution_channel  \\\n",
       "count   119390.000000  119390  118902         119390               119390   \n",
       "unique            NaN       5     177              8                    5   \n",
       "top               NaN      BB     PRT      Online TA                TA/TO   \n",
       "freq              NaN   92310   48590          56477                97870   \n",
       "mean         0.007949     NaN     NaN            NaN                  NaN   \n",
       "std          0.097436     NaN     NaN            NaN                  NaN   \n",
       "min          0.000000     NaN     NaN            NaN                  NaN   \n",
       "25%          0.000000     NaN     NaN            NaN                  NaN   \n",
       "50%          0.000000     NaN     NaN            NaN                  NaN   \n",
       "75%          0.000000     NaN     NaN            NaN                  NaN   \n",
       "max         10.000000     NaN     NaN            NaN                  NaN   \n",
       "\n",
       "       reserved_room_type  booking_changes deposit_type customer_type  \\\n",
       "count              119390    119390.000000       119390        119390   \n",
       "unique                 10              NaN            3             4   \n",
       "top                     A              NaN   No Deposit     Transient   \n",
       "freq                85994              NaN       104641         89613   \n",
       "mean                  NaN         0.221124          NaN           NaN   \n",
       "std                   NaN         0.652306          NaN           NaN   \n",
       "min                   NaN         0.000000          NaN           NaN   \n",
       "25%                   NaN         0.000000          NaN           NaN   \n",
       "50%                   NaN         0.000000          NaN           NaN   \n",
       "75%                   NaN         0.000000          NaN           NaN   \n",
       "max                   NaN        21.000000          NaN           NaN   \n",
       "\n",
       "        total_of_special_requests  \n",
       "count               119390.000000  \n",
       "unique                        NaN  \n",
       "top                           NaN  \n",
       "freq                          NaN  \n",
       "mean                     0.571363  \n",
       "std                      0.792798  \n",
       "min                      0.000000  \n",
       "25%                      0.000000  \n",
       "50%                      0.000000  \n",
       "75%                      1.000000  \n",
       "max                      5.000000  "
      ]
     },
     "execution_count": 4,
     "metadata": {},
     "output_type": "execute_result"
    }
   ],
   "source": [
    "hotel.describe(include = 'all') #untuk numerik & kategorikal ditampilkan semua"
   ]
  },
  {
   "cell_type": "markdown",
   "metadata": {},
   "source": [
    "# EDA"
   ]
  },
  {
   "cell_type": "code",
   "execution_count": 5,
   "metadata": {},
   "outputs": [
    {
     "data": {
      "text/plain": [
       "City Hotel      79330\n",
       "Resort Hotel    40060\n",
       "Name: hotel, dtype: int64"
      ]
     },
     "execution_count": 5,
     "metadata": {},
     "output_type": "execute_result"
    }
   ],
   "source": [
    "eda_hotel = hotel.copy()\n",
    "eda_hotel['hotel'].value_counts()"
   ]
  },
  {
   "cell_type": "code",
   "execution_count": 6,
   "metadata": {},
   "outputs": [
    {
     "data": {
      "text/plain": [
       "Text(0.5, 1.0, 'Cancelation Situation')"
      ]
     },
     "execution_count": 6,
     "metadata": {},
     "output_type": "execute_result"
    },
    {
     "data": {
      "image/png": "[encoded data removed]",
      "text/plain": [
       "<Figure size 432x288 with 1 Axes>"
      ]
     },
     "metadata": {
      "needs_background": "light"
     },
     "output_type": "display_data"
    }
   ],
   "source": [
    "# Hotel Type vs Cancelation Situation\n",
    "sns.countplot(x = 'is_canceled', hue = 'hotel', data = eda_hotel)\n",
    "plt.title ('Cancelation Situation')"
   ]
  },
  {
   "cell_type": "code",
   "execution_count": 7,
   "metadata": {},
   "outputs": [
    {
     "data": {
      "text/plain": [
       "Text(0.5, 1.0, 'Deposit Type')"
      ]
     },
     "execution_count": 7,
     "metadata": {},
     "output_type": "execute_result"
    },
    {
     "data": {
      "image/png": "[encoded data removed]",
      "text/plain": [
       "<Figure size 432x288 with 1 Axes>"
      ]
     },
     "metadata": {
      "needs_background": "light"
     },
     "output_type": "display_data"
    }
   ],
   "source": [
    "sns.countplot(x = 'is_canceled', hue = 'deposit_type', data = eda_hotel)\n",
    "plt.title ('Deposit Type')"
   ]
  },
  {
   "cell_type": "code",
   "execution_count": 8,
   "metadata": {},
   "outputs": [
    {
     "data": {
      "text/plain": [
       "Text(0.5, 1.0, 'Customer Type')"
      ]
     },
     "execution_count": 8,
     "metadata": {},
     "output_type": "execute_result"
    },
    {
     "data": {
      "image/png": "[encoded data removed]",
      "text/plain": [
       "<Figure size 432x288 with 1 Axes>"
      ]
     },
     "metadata": {
      "needs_background": "light"
     },
     "output_type": "display_data"
    }
   ],
   "source": [
    "sns.countplot(x = 'is_canceled', hue = 'customer_type', data = eda_hotel)\n",
    "plt.title ('Customer Type')"
   ]
  },
  {
   "cell_type": "code",
   "execution_count": 9,
   "metadata": {},
   "outputs": [
    {
     "data": {
      "text/plain": [
       "Text(0.5, 1.0, 'Meal Type')"
      ]
     },
     "execution_count": 9,
     "metadata": {},
     "output_type": "execute_result"
    },
    {
     "data": {
      "image/png": "[encoded data removed]",
      "text/plain": [
       "<Figure size 432x288 with 1 Axes>"
      ]
     },
     "metadata": {
      "needs_background": "light"
     },
     "output_type": "display_data"
    }
   ],
   "source": [
    "sns.countplot(x = 'is_canceled', hue = 'meal', data = eda_hotel)\n",
    "plt.title ('Meal Type')"
   ]
  },
  {
   "cell_type": "code",
   "execution_count": 10,
   "metadata": {},
   "outputs": [
    {
     "data": {
      "text/html": [
       "<div>\n",
       "<style scoped>\n",
       "    .dataframe tbody tr th:only-of-type {\n",
       "        vertical-align: middle;\n",
       "    }\n",
       "\n",
       "    .dataframe tbody tr th {\n",
       "        vertical-align: top;\n",
       "    }\n",
       "\n",
       "    .dataframe thead th {\n",
       "        text-align: right;\n",
       "    }\n",
       "</style>\n",
       "<table border=\"1\" class=\"dataframe\">\n",
       "  <thead>\n",
       "    <tr style=\"text-align: right;\">\n",
       "      <th>all_child</th>\n",
       "      <th>0.0</th>\n",
       "      <th>1.0</th>\n",
       "      <th>2.0</th>\n",
       "      <th>3.0</th>\n",
       "      <th>9.0</th>\n",
       "      <th>10.0</th>\n",
       "      <th>Total</th>\n",
       "    </tr>\n",
       "    <tr>\n",
       "      <th>adults</th>\n",
       "      <th></th>\n",
       "      <th></th>\n",
       "      <th></th>\n",
       "      <th></th>\n",
       "      <th></th>\n",
       "      <th></th>\n",
       "      <th></th>\n",
       "    </tr>\n",
       "  </thead>\n",
       "  <tbody>\n",
       "    <tr>\n",
       "      <th>0</th>\n",
       "      <td>180</td>\n",
       "      <td>4</td>\n",
       "      <td>205</td>\n",
       "      <td>14</td>\n",
       "      <td>0</td>\n",
       "      <td>0</td>\n",
       "      <td>403</td>\n",
       "    </tr>\n",
       "    <tr>\n",
       "      <th>1</th>\n",
       "      <td>22577</td>\n",
       "      <td>286</td>\n",
       "      <td>157</td>\n",
       "      <td>6</td>\n",
       "      <td>1</td>\n",
       "      <td>0</td>\n",
       "      <td>23027</td>\n",
       "    </tr>\n",
       "    <tr>\n",
       "      <th>2</th>\n",
       "      <td>81557</td>\n",
       "      <td>4658</td>\n",
       "      <td>3369</td>\n",
       "      <td>91</td>\n",
       "      <td>0</td>\n",
       "      <td>2</td>\n",
       "      <td>89677</td>\n",
       "    </tr>\n",
       "    <tr>\n",
       "      <th>3</th>\n",
       "      <td>5665</td>\n",
       "      <td>495</td>\n",
       "      <td>41</td>\n",
       "      <td>0</td>\n",
       "      <td>0</td>\n",
       "      <td>0</td>\n",
       "      <td>6201</td>\n",
       "    </tr>\n",
       "    <tr>\n",
       "      <th>4</th>\n",
       "      <td>59</td>\n",
       "      <td>3</td>\n",
       "      <td>0</td>\n",
       "      <td>0</td>\n",
       "      <td>0</td>\n",
       "      <td>0</td>\n",
       "      <td>62</td>\n",
       "    </tr>\n",
       "    <tr>\n",
       "      <th>5</th>\n",
       "      <td>2</td>\n",
       "      <td>0</td>\n",
       "      <td>0</td>\n",
       "      <td>0</td>\n",
       "      <td>0</td>\n",
       "      <td>0</td>\n",
       "      <td>2</td>\n",
       "    </tr>\n",
       "    <tr>\n",
       "      <th>6</th>\n",
       "      <td>1</td>\n",
       "      <td>0</td>\n",
       "      <td>0</td>\n",
       "      <td>0</td>\n",
       "      <td>0</td>\n",
       "      <td>0</td>\n",
       "      <td>1</td>\n",
       "    </tr>\n",
       "    <tr>\n",
       "      <th>10</th>\n",
       "      <td>1</td>\n",
       "      <td>0</td>\n",
       "      <td>0</td>\n",
       "      <td>0</td>\n",
       "      <td>0</td>\n",
       "      <td>0</td>\n",
       "      <td>1</td>\n",
       "    </tr>\n",
       "    <tr>\n",
       "      <th>20</th>\n",
       "      <td>2</td>\n",
       "      <td>0</td>\n",
       "      <td>0</td>\n",
       "      <td>0</td>\n",
       "      <td>0</td>\n",
       "      <td>0</td>\n",
       "      <td>2</td>\n",
       "    </tr>\n",
       "    <tr>\n",
       "      <th>26</th>\n",
       "      <td>5</td>\n",
       "      <td>0</td>\n",
       "      <td>0</td>\n",
       "      <td>0</td>\n",
       "      <td>0</td>\n",
       "      <td>0</td>\n",
       "      <td>5</td>\n",
       "    </tr>\n",
       "    <tr>\n",
       "      <th>27</th>\n",
       "      <td>2</td>\n",
       "      <td>0</td>\n",
       "      <td>0</td>\n",
       "      <td>0</td>\n",
       "      <td>0</td>\n",
       "      <td>0</td>\n",
       "      <td>2</td>\n",
       "    </tr>\n",
       "    <tr>\n",
       "      <th>40</th>\n",
       "      <td>1</td>\n",
       "      <td>0</td>\n",
       "      <td>0</td>\n",
       "      <td>0</td>\n",
       "      <td>0</td>\n",
       "      <td>0</td>\n",
       "      <td>1</td>\n",
       "    </tr>\n",
       "    <tr>\n",
       "      <th>50</th>\n",
       "      <td>1</td>\n",
       "      <td>0</td>\n",
       "      <td>0</td>\n",
       "      <td>0</td>\n",
       "      <td>0</td>\n",
       "      <td>0</td>\n",
       "      <td>1</td>\n",
       "    </tr>\n",
       "    <tr>\n",
       "      <th>55</th>\n",
       "      <td>1</td>\n",
       "      <td>0</td>\n",
       "      <td>0</td>\n",
       "      <td>0</td>\n",
       "      <td>0</td>\n",
       "      <td>0</td>\n",
       "      <td>1</td>\n",
       "    </tr>\n",
       "    <tr>\n",
       "      <th>Total</th>\n",
       "      <td>110054</td>\n",
       "      <td>5446</td>\n",
       "      <td>3772</td>\n",
       "      <td>111</td>\n",
       "      <td>1</td>\n",
       "      <td>2</td>\n",
       "      <td>119386</td>\n",
       "    </tr>\n",
       "  </tbody>\n",
       "</table>\n",
       "</div>"
      ],
      "text/plain": [
       "all_child     0.0   1.0   2.0  3.0  9.0  10.0   Total\n",
       "adults                                               \n",
       "0             180     4   205   14    0     0     403\n",
       "1           22577   286   157    6    1     0   23027\n",
       "2           81557  4658  3369   91    0     2   89677\n",
       "3            5665   495    41    0    0     0    6201\n",
       "4              59     3     0    0    0     0      62\n",
       "5               2     0     0    0    0     0       2\n",
       "6               1     0     0    0    0     0       1\n",
       "10              1     0     0    0    0     0       1\n",
       "20              2     0     0    0    0     0       2\n",
       "26              5     0     0    0    0     0       5\n",
       "27              2     0     0    0    0     0       2\n",
       "40              1     0     0    0    0     0       1\n",
       "50              1     0     0    0    0     0       1\n",
       "55              1     0     0    0    0     0       1\n",
       "Total      110054  5446  3772  111    1     2  119386"
      ]
     },
     "execution_count": 10,
     "metadata": {},
     "output_type": "execute_result"
    }
   ],
   "source": [
    "# Hubungan adults dengan children\n",
    "eda_hotel['all_child'] = eda_hotel['children'] + eda_hotel['babies']\n",
    "pd.crosstab(eda_hotel['adults'], eda_hotel['all_child'], margins = True, margins_name = 'Total')"
   ]
  },
  {
   "cell_type": "markdown",
   "metadata": {},
   "source": [
    "# Data Cleaning"
   ]
  },
  {
   "cell_type": "code",
   "execution_count": 11,
   "metadata": {},
   "outputs": [
    {
     "data": {
      "text/plain": [
       "hotel                        0.000000\n",
       "is_canceled                  0.000000\n",
       "adults                       0.000000\n",
       "children                     0.003350\n",
       "babies                       0.000000\n",
       "meal                         0.000000\n",
       "country                      0.408744\n",
       "market_segment               0.000000\n",
       "distribution_channel         0.000000\n",
       "reserved_room_type           0.000000\n",
       "booking_changes              0.000000\n",
       "deposit_type                 0.000000\n",
       "customer_type                0.000000\n",
       "total_of_special_requests    0.000000\n",
       "dtype: float64"
      ]
     },
     "execution_count": 11,
     "metadata": {},
     "output_type": "execute_result"
    }
   ],
   "source": [
    "hotel.isna().sum()/len(hotel)*100"
   ]
  },
  {
   "cell_type": "code",
   "execution_count": 12,
   "metadata": {},
   "outputs": [
    {
     "data": {
      "text/plain": [
       "0    62.958372\n",
       "1    37.041628\n",
       "Name: is_canceled, dtype: float64"
      ]
     },
     "execution_count": 12,
     "metadata": {},
     "output_type": "execute_result"
    }
   ],
   "source": [
    "hotel['is_canceled'].value_counts()/hotel.shape[0]*100"
   ]
  },
  {
   "cell_type": "markdown",
   "metadata": {},
   "source": [
    "Data ini imbalance, karena tidak seimbang antara cancel atau tidak. Dan banyak yang valuenya 0 juga."
   ]
  },
  {
   "cell_type": "code",
   "execution_count": 13,
   "metadata": {},
   "outputs": [
    {
     "data": {
      "text/html": [
       "<div>\n",
       "<style scoped>\n",
       "    .dataframe tbody tr th:only-of-type {\n",
       "        vertical-align: middle;\n",
       "    }\n",
       "\n",
       "    .dataframe tbody tr th {\n",
       "        vertical-align: top;\n",
       "    }\n",
       "\n",
       "    .dataframe thead th {\n",
       "        text-align: right;\n",
       "    }\n",
       "</style>\n",
       "<table border=\"1\" class=\"dataframe\">\n",
       "  <thead>\n",
       "    <tr style=\"text-align: right;\">\n",
       "      <th></th>\n",
       "      <th>hotel</th>\n",
       "      <th>is_canceled</th>\n",
       "      <th>adults</th>\n",
       "      <th>children</th>\n",
       "      <th>babies</th>\n",
       "      <th>meal</th>\n",
       "      <th>country</th>\n",
       "      <th>market_segment</th>\n",
       "      <th>distribution_channel</th>\n",
       "      <th>reserved_room_type</th>\n",
       "      <th>booking_changes</th>\n",
       "      <th>deposit_type</th>\n",
       "      <th>customer_type</th>\n",
       "      <th>total_of_special_requests</th>\n",
       "    </tr>\n",
       "  </thead>\n",
       "  <tbody>\n",
       "    <tr>\n",
       "      <th>count</th>\n",
       "      <td>119390</td>\n",
       "      <td>119390.000000</td>\n",
       "      <td>119390.000000</td>\n",
       "      <td>119386.000000</td>\n",
       "      <td>119390.000000</td>\n",
       "      <td>119390</td>\n",
       "      <td>118902</td>\n",
       "      <td>119390</td>\n",
       "      <td>119390</td>\n",
       "      <td>119390</td>\n",
       "      <td>119390.000000</td>\n",
       "      <td>119390</td>\n",
       "      <td>119390</td>\n",
       "      <td>119390.000000</td>\n",
       "    </tr>\n",
       "    <tr>\n",
       "      <th>unique</th>\n",
       "      <td>2</td>\n",
       "      <td>NaN</td>\n",
       "      <td>NaN</td>\n",
       "      <td>NaN</td>\n",
       "      <td>NaN</td>\n",
       "      <td>5</td>\n",
       "      <td>177</td>\n",
       "      <td>8</td>\n",
       "      <td>5</td>\n",
       "      <td>10</td>\n",
       "      <td>NaN</td>\n",
       "      <td>3</td>\n",
       "      <td>4</td>\n",
       "      <td>NaN</td>\n",
       "    </tr>\n",
       "    <tr>\n",
       "      <th>top</th>\n",
       "      <td>City Hotel</td>\n",
       "      <td>NaN</td>\n",
       "      <td>NaN</td>\n",
       "      <td>NaN</td>\n",
       "      <td>NaN</td>\n",
       "      <td>BB</td>\n",
       "      <td>PRT</td>\n",
       "      <td>Online TA</td>\n",
       "      <td>TA/TO</td>\n",
       "      <td>A</td>\n",
       "      <td>NaN</td>\n",
       "      <td>No Deposit</td>\n",
       "      <td>Transient</td>\n",
       "      <td>NaN</td>\n",
       "    </tr>\n",
       "    <tr>\n",
       "      <th>freq</th>\n",
       "      <td>79330</td>\n",
       "      <td>NaN</td>\n",
       "      <td>NaN</td>\n",
       "      <td>NaN</td>\n",
       "      <td>NaN</td>\n",
       "      <td>92310</td>\n",
       "      <td>48590</td>\n",
       "      <td>56477</td>\n",
       "      <td>97870</td>\n",
       "      <td>85994</td>\n",
       "      <td>NaN</td>\n",
       "      <td>104641</td>\n",
       "      <td>89613</td>\n",
       "      <td>NaN</td>\n",
       "    </tr>\n",
       "    <tr>\n",
       "      <th>mean</th>\n",
       "      <td>NaN</td>\n",
       "      <td>0.370416</td>\n",
       "      <td>1.856403</td>\n",
       "      <td>0.103890</td>\n",
       "      <td>0.007949</td>\n",
       "      <td>NaN</td>\n",
       "      <td>NaN</td>\n",
       "      <td>NaN</td>\n",
       "      <td>NaN</td>\n",
       "      <td>NaN</td>\n",
       "      <td>0.221124</td>\n",
       "      <td>NaN</td>\n",
       "      <td>NaN</td>\n",
       "      <td>0.571363</td>\n",
       "    </tr>\n",
       "    <tr>\n",
       "      <th>std</th>\n",
       "      <td>NaN</td>\n",
       "      <td>0.482918</td>\n",
       "      <td>0.579261</td>\n",
       "      <td>0.398561</td>\n",
       "      <td>0.097436</td>\n",
       "      <td>NaN</td>\n",
       "      <td>NaN</td>\n",
       "      <td>NaN</td>\n",
       "      <td>NaN</td>\n",
       "      <td>NaN</td>\n",
       "      <td>0.652306</td>\n",
       "      <td>NaN</td>\n",
       "      <td>NaN</td>\n",
       "      <td>0.792798</td>\n",
       "    </tr>\n",
       "    <tr>\n",
       "      <th>min</th>\n",
       "      <td>NaN</td>\n",
       "      <td>0.000000</td>\n",
       "      <td>0.000000</td>\n",
       "      <td>0.000000</td>\n",
       "      <td>0.000000</td>\n",
       "      <td>NaN</td>\n",
       "      <td>NaN</td>\n",
       "      <td>NaN</td>\n",
       "      <td>NaN</td>\n",
       "      <td>NaN</td>\n",
       "      <td>0.000000</td>\n",
       "      <td>NaN</td>\n",
       "      <td>NaN</td>\n",
       "      <td>0.000000</td>\n",
       "    </tr>\n",
       "    <tr>\n",
       "      <th>25%</th>\n",
       "      <td>NaN</td>\n",
       "      <td>0.000000</td>\n",
       "      <td>2.000000</td>\n",
       "      <td>0.000000</td>\n",
       "      <td>0.000000</td>\n",
       "      <td>NaN</td>\n",
       "      <td>NaN</td>\n",
       "      <td>NaN</td>\n",
       "      <td>NaN</td>\n",
       "      <td>NaN</td>\n",
       "      <td>0.000000</td>\n",
       "      <td>NaN</td>\n",
       "      <td>NaN</td>\n",
       "      <td>0.000000</td>\n",
       "    </tr>\n",
       "    <tr>\n",
       "      <th>50%</th>\n",
       "      <td>NaN</td>\n",
       "      <td>0.000000</td>\n",
       "      <td>2.000000</td>\n",
       "      <td>0.000000</td>\n",
       "      <td>0.000000</td>\n",
       "      <td>NaN</td>\n",
       "      <td>NaN</td>\n",
       "      <td>NaN</td>\n",
       "      <td>NaN</td>\n",
       "      <td>NaN</td>\n",
       "      <td>0.000000</td>\n",
       "      <td>NaN</td>\n",
       "      <td>NaN</td>\n",
       "      <td>0.000000</td>\n",
       "    </tr>\n",
       "    <tr>\n",
       "      <th>75%</th>\n",
       "      <td>NaN</td>\n",
       "      <td>1.000000</td>\n",
       "      <td>2.000000</td>\n",
       "      <td>0.000000</td>\n",
       "      <td>0.000000</td>\n",
       "      <td>NaN</td>\n",
       "      <td>NaN</td>\n",
       "      <td>NaN</td>\n",
       "      <td>NaN</td>\n",
       "      <td>NaN</td>\n",
       "      <td>0.000000</td>\n",
       "      <td>NaN</td>\n",
       "      <td>NaN</td>\n",
       "      <td>1.000000</td>\n",
       "    </tr>\n",
       "    <tr>\n",
       "      <th>max</th>\n",
       "      <td>NaN</td>\n",
       "      <td>1.000000</td>\n",
       "      <td>55.000000</td>\n",
       "      <td>10.000000</td>\n",
       "      <td>10.000000</td>\n",
       "      <td>NaN</td>\n",
       "      <td>NaN</td>\n",
       "      <td>NaN</td>\n",
       "      <td>NaN</td>\n",
       "      <td>NaN</td>\n",
       "      <td>21.000000</td>\n",
       "      <td>NaN</td>\n",
       "      <td>NaN</td>\n",
       "      <td>5.000000</td>\n",
       "    </tr>\n",
       "  </tbody>\n",
       "</table>\n",
       "</div>"
      ],
      "text/plain": [
       "             hotel    is_canceled         adults       children  \\\n",
       "count       119390  119390.000000  119390.000000  119386.000000   \n",
       "unique           2            NaN            NaN            NaN   \n",
       "top     City Hotel            NaN            NaN            NaN   \n",
       "freq         79330            NaN            NaN            NaN   \n",
       "mean           NaN       0.370416       1.856403       0.103890   \n",
       "std            NaN       0.482918       0.579261       0.398561   \n",
       "min            NaN       0.000000       0.000000       0.000000   \n",
       "25%            NaN       0.000000       2.000000       0.000000   \n",
       "50%            NaN       0.000000       2.000000       0.000000   \n",
       "75%            NaN       1.000000       2.000000       0.000000   \n",
       "max            NaN       1.000000      55.000000      10.000000   \n",
       "\n",
       "               babies    meal country market_segment distribution_channel  \\\n",
       "count   119390.000000  119390  118902         119390               119390   \n",
       "unique            NaN       5     177              8                    5   \n",
       "top               NaN      BB     PRT      Online TA                TA/TO   \n",
       "freq              NaN   92310   48590          56477                97870   \n",
       "mean         0.007949     NaN     NaN            NaN                  NaN   \n",
       "std          0.097436     NaN     NaN            NaN                  NaN   \n",
       "min          0.000000     NaN     NaN            NaN                  NaN   \n",
       "25%          0.000000     NaN     NaN            NaN                  NaN   \n",
       "50%          0.000000     NaN     NaN            NaN                  NaN   \n",
       "75%          0.000000     NaN     NaN            NaN                  NaN   \n",
       "max         10.000000     NaN     NaN            NaN                  NaN   \n",
       "\n",
       "       reserved_room_type  booking_changes deposit_type customer_type  \\\n",
       "count              119390    119390.000000       119390        119390   \n",
       "unique                 10              NaN            3             4   \n",
       "top                     A              NaN   No Deposit     Transient   \n",
       "freq                85994              NaN       104641         89613   \n",
       "mean                  NaN         0.221124          NaN           NaN   \n",
       "std                   NaN         0.652306          NaN           NaN   \n",
       "min                   NaN         0.000000          NaN           NaN   \n",
       "25%                   NaN         0.000000          NaN           NaN   \n",
       "50%                   NaN         0.000000          NaN           NaN   \n",
       "75%                   NaN         0.000000          NaN           NaN   \n",
       "max                   NaN        21.000000          NaN           NaN   \n",
       "\n",
       "        total_of_special_requests  \n",
       "count               119390.000000  \n",
       "unique                        NaN  \n",
       "top                           NaN  \n",
       "freq                          NaN  \n",
       "mean                     0.571363  \n",
       "std                      0.792798  \n",
       "min                      0.000000  \n",
       "25%                      0.000000  \n",
       "50%                      0.000000  \n",
       "75%                      1.000000  \n",
       "max                      5.000000  "
      ]
     },
     "execution_count": 13,
     "metadata": {},
     "output_type": "execute_result"
    }
   ],
   "source": [
    "hotel.describe(include = 'all')"
   ]
  },
  {
   "cell_type": "markdown",
   "metadata": {},
   "source": [
    "### Preprocessing Scheme\n",
    "\n",
    "- Target : is_canceled\n",
    "- OneHotEncoding : hotel, meal, distribution_channel, deposit_type, customer_type\n",
    "- BinaryEncoder : country, market_segment, reserved_room_type\n",
    "\n",
    "Mengisi missing value\n",
    "- Imputer (Simple Imputer, Iterative Imputer, KNN (membaca pola dari tetangga terdekat))\n",
    "- Iterative Imputer (mengisi Nan menggunakan algoritma regression, menginput sesuai dengan datanya) : children\n",
    "- Simple Imputer mode (modus) : country\n",
    "\n",
    "\n",
    "- Standard scaler : adults\n",
    "- passthrough : babies, booking_changes, total_of_special_requests"
   ]
  },
  {
   "cell_type": "code",
   "execution_count": 14,
   "metadata": {},
   "outputs": [],
   "source": [
    "from sklearn.pipeline import Pipeline\n",
    "from sklearn.compose import ColumnTransformer\n",
    "from sklearn.preprocessing import OneHotEncoder, StandardScaler\n",
    "from sklearn.experimental import enable_iterative_imputer\n",
    "from sklearn.impute import SimpleImputer, IterativeImputer\n",
    "from category_encoders import BinaryEncoder"
   ]
  },
  {
   "cell_type": "code",
   "execution_count": 15,
   "metadata": {},
   "outputs": [],
   "source": [
    "mode_binary = Pipeline([\n",
    "    ('encoder', SimpleImputer(strategy = 'most_frequent')),\n",
    "    ('binary', BinaryEncoder())\n",
    "])\n",
    "\n",
    "transformer = ColumnTransformer ([\n",
    "    ('one hot', OneHotEncoder(handle_unknown = 'ignore'), ['hotel', 'meal', 'distribution_channel',\n",
    "                                                          'deposit_type', 'customer_type']),\n",
    "    ('mode binary', mode_binary, ['country', 'market_segment', 'reserved_room_type']),\n",
    "    ('iterative', IterativeImputer(max_iter = 5), ['children']),\n",
    "    ('scaler', StandardScaler(), ['adults'])\n",
    "], remainder = 'passthrough')"
   ]
  },
  {
   "cell_type": "markdown",
   "metadata": {},
   "source": [
    "*Define Target Data*"
   ]
  },
  {
   "cell_type": "code",
   "execution_count": 74,
   "metadata": {},
   "outputs": [
    {
     "data": {
      "text/plain": [
       "Index(['hotel', 'adults', 'children', 'babies', 'meal', 'country',\n",
       "       'market_segment', 'distribution_channel', 'reserved_room_type',\n",
       "       'booking_changes', 'deposit_type', 'customer_type',\n",
       "       'total_of_special_requests'],\n",
       "      dtype='object')"
      ]
     },
     "execution_count": 74,
     "metadata": {},
     "output_type": "execute_result"
    }
   ],
   "source": [
    "X_train.columns\n",
    "# hotel"
   ]
  },
  {
   "cell_type": "code",
   "execution_count": 16,
   "metadata": {},
   "outputs": [],
   "source": [
    "X = hotel.drop('is_canceled', axis = 1)\n",
    "y = hotel['is_canceled']"
   ]
  },
  {
   "cell_type": "markdown",
   "metadata": {},
   "source": [
    "- 0 = Not Canceled\n",
    "- 1 = Canceled\n",
    "\n",
    "- TN\n",
    "- TP\n",
    "- FP : Prediksi Cancel, Actual Not Cancel (recall = TP/(FN+TP))\n",
    "- FN : Prediksi Not Cancel, Actual Cancel (precision = TP/(FN+TP))\n",
    "\n",
    "f1-score : (2x precission x recall)/(precission x recall)\n",
    "\n",
    "    - membiarkan FP resikonya apa? Kehilangan kepercayaan customer, \n",
    "    - membiarkan FN resikonya apa? Banyak kamar yang kosong\n",
    "    \n",
    "    - mana yang lebih rugi? membiarkan FP (no business without customer)\n",
    "    - mana yg ditekan? FP"
   ]
  },
  {
   "cell_type": "markdown",
   "metadata": {},
   "source": [
    "Splitting Data"
   ]
  },
  {
   "cell_type": "code",
   "execution_count": 17,
   "metadata": {},
   "outputs": [],
   "source": [
    "from sklearn.model_selection import train_test_split, StratifiedKFold, cross_val_score"
   ]
  },
  {
   "cell_type": "code",
   "execution_count": 18,
   "metadata": {},
   "outputs": [],
   "source": [
    "X_train, X_test, y_train, y_test = train_test_split(X,y, \n",
    "                                                    stratify = y,\n",
    "                                                    test_size = 0.2,\n",
    "                                                    random_state = 2022\n",
    "                                                   )"
   ]
  },
  {
   "cell_type": "markdown",
   "metadata": {},
   "source": [
    "## Modeling"
   ]
  },
  {
   "cell_type": "markdown",
   "metadata": {},
   "source": [
    "- Logistic Regression\n",
    "- Decision Tree"
   ]
  },
  {
   "cell_type": "code",
   "execution_count": 19,
   "metadata": {},
   "outputs": [],
   "source": [
    "from sklearn.linear_model import LogisticRegression\n",
    "from sklearn.tree import DecisionTreeClassifier\n",
    "from sklearn.metrics import f1_score"
   ]
  },
  {
   "cell_type": "code",
   "execution_count": 20,
   "metadata": {},
   "outputs": [],
   "source": [
    "logreg = LogisticRegression(random_state = 2022)\n",
    "tree = DecisionTreeClassifier (random_state = 2022)"
   ]
  },
  {
   "cell_type": "markdown",
   "metadata": {},
   "source": [
    "- Buat Pipeline\n"
   ]
  },
  {
   "cell_type": "code",
   "execution_count": 21,
   "metadata": {},
   "outputs": [],
   "source": [
    "logreg_pipe = Pipeline ([\n",
    "    ('transformer', transformer),\n",
    "    ('model', logreg)\n",
    "])\n",
    "\n",
    "tree_pipe = Pipeline ([\n",
    "    ('transformer', transformer),\n",
    "    ('model', tree)\n",
    "])"
   ]
  },
  {
   "cell_type": "code",
   "execution_count": 22,
   "metadata": {},
   "outputs": [],
   "source": [
    "def model_eval (model, metric):\n",
    "    model_cv = cross_val_score(model, X_train, y_train, cv = StratifiedKFold(n_splits = 5),\n",
    "                              scoring = metric)\n",
    "    return model_cv"
   ]
  },
  {
   "cell_type": "code",
   "execution_count": 23,
   "metadata": {},
   "outputs": [],
   "source": [
    "logreg_pipe_cv = model_eval(logreg_pipe, 'f1')\n",
    "tree_pipe_cv = model_eval(tree_pipe, 'f1')"
   ]
  },
  {
   "cell_type": "code",
   "execution_count": 24,
   "metadata": {},
   "outputs": [],
   "source": [
    "score_cv = [logreg_pipe_cv, tree_pipe_cv]\n",
    "score_mean = [logreg_pipe_cv.mean(), tree_pipe_cv.mean()]\n",
    "score_std = [logreg_pipe_cv.std(), tree_pipe_cv.std()]"
   ]
  },
  {
   "cell_type": "markdown",
   "metadata": {},
   "source": [
    "Fitting, menggunakan for loop (supaya bisa dipakai berulang-ulang)\n",
    "balikin lagi ke pipelinenya"
   ]
  },
  {
   "cell_type": "code",
   "execution_count": 25,
   "metadata": {},
   "outputs": [],
   "source": [
    "for model in [logreg_pipe, tree_pipe]:\n",
    "    model.fit (X_train, y_train)"
   ]
  },
  {
   "cell_type": "code",
   "execution_count": 26,
   "metadata": {},
   "outputs": [],
   "source": [
    "score_f1 = [f1_score(y_test, logreg_pipe.predict(X_test)),\n",
    "           f1_score(y_test, tree_pipe.predict(X_test)),\n",
    "           ]"
   ]
  },
  {
   "cell_type": "code",
   "execution_count": 27,
   "metadata": {},
   "outputs": [
    {
     "data": {
      "text/html": [
       "<div>\n",
       "<style scoped>\n",
       "    .dataframe tbody tr th:only-of-type {\n",
       "        vertical-align: middle;\n",
       "    }\n",
       "\n",
       "    .dataframe tbody tr th {\n",
       "        vertical-align: top;\n",
       "    }\n",
       "\n",
       "    .dataframe thead th {\n",
       "        text-align: right;\n",
       "    }\n",
       "</style>\n",
       "<table border=\"1\" class=\"dataframe\">\n",
       "  <thead>\n",
       "    <tr style=\"text-align: right;\">\n",
       "      <th></th>\n",
       "      <th>model</th>\n",
       "      <th>cv</th>\n",
       "      <th>mean</th>\n",
       "      <th>std</th>\n",
       "      <th>f1</th>\n",
       "    </tr>\n",
       "  </thead>\n",
       "  <tbody>\n",
       "    <tr>\n",
       "      <th>0</th>\n",
       "      <td>Logistic Regression</td>\n",
       "      <td>[0.6056667533142709, 0.6019215788106985, 0.596...</td>\n",
       "      <td>0.603430</td>\n",
       "      <td>0.004680</td>\n",
       "      <td>0.601824</td>\n",
       "    </tr>\n",
       "    <tr>\n",
       "      <th>1</th>\n",
       "      <td>Decision Tree</td>\n",
       "      <td>[0.7149973975760279, 0.7159728373191615, 0.708...</td>\n",
       "      <td>0.712903</td>\n",
       "      <td>0.003088</td>\n",
       "      <td>0.715711</td>\n",
       "    </tr>\n",
       "  </tbody>\n",
       "</table>\n",
       "</div>"
      ],
      "text/plain": [
       "                 model                                                 cv  \\\n",
       "0  Logistic Regression  [0.6056667533142709, 0.6019215788106985, 0.596...   \n",
       "1        Decision Tree  [0.7149973975760279, 0.7159728373191615, 0.708...   \n",
       "\n",
       "       mean       std        f1  \n",
       "0  0.603430  0.004680  0.601824  \n",
       "1  0.712903  0.003088  0.715711  "
      ]
     },
     "execution_count": 27,
     "metadata": {},
     "output_type": "execute_result"
    }
   ],
   "source": [
    "model_name = ['Logistic Regression', 'Decision Tree']\n",
    "model_summary = pd.DataFrame({\n",
    "    'model' : model_name,\n",
    "    'cv' : score_cv,\n",
    "    'mean' : score_mean,\n",
    "    'std' : score_std,\n",
    "    'f1' : score_f1\n",
    "})\n",
    "model_summary"
   ]
  },
  {
   "cell_type": "markdown",
   "metadata": {},
   "source": [
    "## Handling Imbalance"
   ]
  },
  {
   "cell_type": "code",
   "execution_count": 28,
   "metadata": {},
   "outputs": [],
   "source": [
    "from imblearn.over_sampling import RandomOverSampler\n",
    "from imblearn.under_sampling import RandomUnderSampler\n",
    "from imblearn.pipeline import Pipeline # beda Pipeline dari sklearn dan dari imblearn (imbalance)"
   ]
  },
  {
   "cell_type": "markdown",
   "metadata": {},
   "source": [
    "- Resampling : Under Sampling"
   ]
  },
  {
   "cell_type": "code",
   "execution_count": 29,
   "metadata": {},
   "outputs": [],
   "source": [
    "rus = RandomUnderSampler(random_state = 2022)\n",
    "X_under, y_under = rus.fit_resample(X_train, y_train)"
   ]
  },
  {
   "cell_type": "code",
   "execution_count": 30,
   "metadata": {},
   "outputs": [],
   "source": [
    "logreg_rus_pipe = Pipeline ([\n",
    "    ('transformer', transformer),\n",
    "    ('rus',rus),\n",
    "    ('model', logreg)\n",
    "])\n",
    "\n",
    "tree_rus_pipe = Pipeline ([\n",
    "    ('transformer', transformer),\n",
    "    ('rus',rus),\n",
    "    ('model', tree)\n",
    "])"
   ]
  },
  {
   "cell_type": "code",
   "execution_count": 31,
   "metadata": {},
   "outputs": [],
   "source": [
    "def model_eval (model, metric):\n",
    "    model_cv = cross_val_score(model, X_under, y_under, cv = StratifiedKFold(n_splits = 5),\n",
    "                              scoring = metric)\n",
    "    return model_cv"
   ]
  },
  {
   "cell_type": "code",
   "execution_count": 32,
   "metadata": {},
   "outputs": [],
   "source": [
    "logreg_rus_pipe_cv = model_eval(logreg_rus_pipe, 'f1')\n",
    "tree_rus_pipe_cv = model_eval(tree_rus_pipe, 'f1')"
   ]
  },
  {
   "cell_type": "code",
   "execution_count": 33,
   "metadata": {},
   "outputs": [],
   "source": [
    "score_cv = [logreg_rus_pipe_cv, tree_rus_pipe_cv]\n",
    "score_mean = [logreg_rus_pipe_cv.mean(), tree_rus_pipe_cv.mean()]\n",
    "score_std = [logreg_rus_pipe_cv.std(), tree_rus_pipe_cv.std()]"
   ]
  },
  {
   "cell_type": "code",
   "execution_count": 34,
   "metadata": {},
   "outputs": [],
   "source": [
    "for model in [logreg_rus_pipe, tree_rus_pipe]:\n",
    "    model.fit (X_under, y_under)"
   ]
  },
  {
   "cell_type": "code",
   "execution_count": 35,
   "metadata": {},
   "outputs": [],
   "source": [
    "score_f1 = [f1_score(y_test, logreg_rus_pipe.predict(X_test)),\n",
    "           f1_score(y_test, tree_rus_pipe.predict(X_test)),\n",
    "           ]"
   ]
  },
  {
   "cell_type": "code",
   "execution_count": 36,
   "metadata": {},
   "outputs": [
    {
     "data": {
      "text/html": [
       "<div>\n",
       "<style scoped>\n",
       "    .dataframe tbody tr th:only-of-type {\n",
       "        vertical-align: middle;\n",
       "    }\n",
       "\n",
       "    .dataframe tbody tr th {\n",
       "        vertical-align: top;\n",
       "    }\n",
       "\n",
       "    .dataframe thead th {\n",
       "        text-align: right;\n",
       "    }\n",
       "</style>\n",
       "<table border=\"1\" class=\"dataframe\">\n",
       "  <thead>\n",
       "    <tr style=\"text-align: right;\">\n",
       "      <th></th>\n",
       "      <th>model</th>\n",
       "      <th>cv</th>\n",
       "      <th>mean</th>\n",
       "      <th>std</th>\n",
       "      <th>f1</th>\n",
       "    </tr>\n",
       "  </thead>\n",
       "  <tbody>\n",
       "    <tr>\n",
       "      <th>0</th>\n",
       "      <td>Logistic Regression Under</td>\n",
       "      <td>[0.7244247920257814, 0.7231117824773413, 0.720...</td>\n",
       "      <td>0.724872</td>\n",
       "      <td>0.002909</td>\n",
       "      <td>0.680197</td>\n",
       "    </tr>\n",
       "    <tr>\n",
       "      <th>1</th>\n",
       "      <td>Decision Tree Under</td>\n",
       "      <td>[0.7796633941093969, 0.7851778376080486, 0.780...</td>\n",
       "      <td>0.782308</td>\n",
       "      <td>0.002512</td>\n",
       "      <td>0.728100</td>\n",
       "    </tr>\n",
       "  </tbody>\n",
       "</table>\n",
       "</div>"
      ],
      "text/plain": [
       "                       model  \\\n",
       "0  Logistic Regression Under   \n",
       "1        Decision Tree Under   \n",
       "\n",
       "                                                  cv      mean       std  \\\n",
       "0  [0.7244247920257814, 0.7231117824773413, 0.720...  0.724872  0.002909   \n",
       "1  [0.7796633941093969, 0.7851778376080486, 0.780...  0.782308  0.002512   \n",
       "\n",
       "         f1  \n",
       "0  0.680197  \n",
       "1  0.728100  "
      ]
     },
     "execution_count": 36,
     "metadata": {},
     "output_type": "execute_result"
    }
   ],
   "source": [
    "model_name_rus = ['Logistic Regression Under', 'Decision Tree Under']\n",
    "rus_summary = pd.DataFrame({\n",
    "    'model' : model_name_rus,\n",
    "    'cv' : score_cv,\n",
    "    'mean' : score_mean,\n",
    "    'std' : score_std,\n",
    "    'f1' : score_f1\n",
    "})\n",
    "rus_summary"
   ]
  },
  {
   "cell_type": "markdown",
   "metadata": {},
   "source": [
    "- Resampling : Over Sampling"
   ]
  },
  {
   "cell_type": "code",
   "execution_count": 37,
   "metadata": {},
   "outputs": [],
   "source": [
    "ros = RandomOverSampler(random_state = 2022)\n",
    "X_over, y_over = ros.fit_resample(X_train, y_train)"
   ]
  },
  {
   "cell_type": "code",
   "execution_count": 38,
   "metadata": {},
   "outputs": [],
   "source": [
    "logreg_ros_pipe = Pipeline ([\n",
    "    ('transformer', transformer),\n",
    "    ('ros',ros),\n",
    "    ('model', logreg)\n",
    "])\n",
    "\n",
    "tree_ros_pipe = Pipeline ([\n",
    "    ('transformer', transformer),\n",
    "    ('ros',ros),\n",
    "    ('model', tree)\n",
    "])"
   ]
  },
  {
   "cell_type": "code",
   "execution_count": 39,
   "metadata": {},
   "outputs": [],
   "source": [
    "def model_eval (model, metric):\n",
    "    model_cv = cross_val_score(model, X_over, y_over, cv = StratifiedKFold(n_splits = 5),\n",
    "                              scoring = metric)\n",
    "    return model_cv"
   ]
  },
  {
   "cell_type": "code",
   "execution_count": 40,
   "metadata": {},
   "outputs": [],
   "source": [
    "logreg_ros_pipe_cv = model_eval(logreg_ros_pipe, 'f1')\n",
    "tree_ros_pipe_cv = model_eval(tree_ros_pipe, 'f1')"
   ]
  },
  {
   "cell_type": "code",
   "execution_count": 41,
   "metadata": {},
   "outputs": [],
   "source": [
    "score_cv = [logreg_ros_pipe_cv, tree_ros_pipe_cv]\n",
    "score_mean = [logreg_ros_pipe_cv.mean(), tree_ros_pipe_cv.mean()]\n",
    "score_std = [logreg_ros_pipe_cv.std(), tree_ros_pipe_cv.std()]"
   ]
  },
  {
   "cell_type": "code",
   "execution_count": 42,
   "metadata": {},
   "outputs": [],
   "source": [
    "for model in [logreg_ros_pipe, tree_ros_pipe]:\n",
    "    model.fit (X_over, y_over)"
   ]
  },
  {
   "cell_type": "code",
   "execution_count": 43,
   "metadata": {},
   "outputs": [],
   "source": [
    "score_f1 = [f1_score(y_test, logreg_ros_pipe.predict(X_test)),\n",
    "           f1_score(y_test, tree_ros_pipe.predict(X_test)),\n",
    "           ]"
   ]
  },
  {
   "cell_type": "code",
   "execution_count": 44,
   "metadata": {},
   "outputs": [],
   "source": [
    "model_name_ros = ['Logistic Regression Over', 'Decision Tree Over']\n",
    "ros_summary = pd.DataFrame({\n",
    "    'model' : model_name_ros,\n",
    "    'cv' : score_cv,\n",
    "    'mean' : score_mean,\n",
    "    'std' : score_std,\n",
    "    'f1' : score_f1\n",
    "})"
   ]
  },
  {
   "cell_type": "code",
   "execution_count": 45,
   "metadata": {},
   "outputs": [
    {
     "data": {
      "text/html": [
       "<div>\n",
       "<style scoped>\n",
       "    .dataframe tbody tr th:only-of-type {\n",
       "        vertical-align: middle;\n",
       "    }\n",
       "\n",
       "    .dataframe tbody tr th {\n",
       "        vertical-align: top;\n",
       "    }\n",
       "\n",
       "    .dataframe thead th {\n",
       "        text-align: right;\n",
       "    }\n",
       "</style>\n",
       "<table border=\"1\" class=\"dataframe\">\n",
       "  <thead>\n",
       "    <tr style=\"text-align: right;\">\n",
       "      <th></th>\n",
       "      <th>model</th>\n",
       "      <th>cv</th>\n",
       "      <th>mean</th>\n",
       "      <th>std</th>\n",
       "      <th>f1</th>\n",
       "    </tr>\n",
       "  </thead>\n",
       "  <tbody>\n",
       "    <tr>\n",
       "      <th>0</th>\n",
       "      <td>Logistic Regression</td>\n",
       "      <td>[0.6056667533142709, 0.6019215788106985, 0.596...</td>\n",
       "      <td>0.603430</td>\n",
       "      <td>0.004680</td>\n",
       "      <td>0.601824</td>\n",
       "    </tr>\n",
       "    <tr>\n",
       "      <th>1</th>\n",
       "      <td>Decision Tree</td>\n",
       "      <td>[0.7149973975760279, 0.7159728373191615, 0.708...</td>\n",
       "      <td>0.712903</td>\n",
       "      <td>0.003088</td>\n",
       "      <td>0.715711</td>\n",
       "    </tr>\n",
       "  </tbody>\n",
       "</table>\n",
       "</div>"
      ],
      "text/plain": [
       "                 model                                                 cv  \\\n",
       "0  Logistic Regression  [0.6056667533142709, 0.6019215788106985, 0.596...   \n",
       "1        Decision Tree  [0.7149973975760279, 0.7159728373191615, 0.708...   \n",
       "\n",
       "       mean       std        f1  \n",
       "0  0.603430  0.004680  0.601824  \n",
       "1  0.712903  0.003088  0.715711  "
      ]
     },
     "metadata": {},
     "output_type": "display_data"
    },
    {
     "data": {
      "text/html": [
       "<div>\n",
       "<style scoped>\n",
       "    .dataframe tbody tr th:only-of-type {\n",
       "        vertical-align: middle;\n",
       "    }\n",
       "\n",
       "    .dataframe tbody tr th {\n",
       "        vertical-align: top;\n",
       "    }\n",
       "\n",
       "    .dataframe thead th {\n",
       "        text-align: right;\n",
       "    }\n",
       "</style>\n",
       "<table border=\"1\" class=\"dataframe\">\n",
       "  <thead>\n",
       "    <tr style=\"text-align: right;\">\n",
       "      <th></th>\n",
       "      <th>model</th>\n",
       "      <th>cv</th>\n",
       "      <th>mean</th>\n",
       "      <th>std</th>\n",
       "      <th>f1</th>\n",
       "    </tr>\n",
       "  </thead>\n",
       "  <tbody>\n",
       "    <tr>\n",
       "      <th>0</th>\n",
       "      <td>Logistic Regression Under</td>\n",
       "      <td>[0.7244247920257814, 0.7231117824773413, 0.720...</td>\n",
       "      <td>0.724872</td>\n",
       "      <td>0.002909</td>\n",
       "      <td>0.680197</td>\n",
       "    </tr>\n",
       "    <tr>\n",
       "      <th>1</th>\n",
       "      <td>Decision Tree Under</td>\n",
       "      <td>[0.7796633941093969, 0.7851778376080486, 0.780...</td>\n",
       "      <td>0.782308</td>\n",
       "      <td>0.002512</td>\n",
       "      <td>0.728100</td>\n",
       "    </tr>\n",
       "  </tbody>\n",
       "</table>\n",
       "</div>"
      ],
      "text/plain": [
       "                       model  \\\n",
       "0  Logistic Regression Under   \n",
       "1        Decision Tree Under   \n",
       "\n",
       "                                                  cv      mean       std  \\\n",
       "0  [0.7244247920257814, 0.7231117824773413, 0.720...  0.724872  0.002909   \n",
       "1  [0.7796633941093969, 0.7851778376080486, 0.780...  0.782308  0.002512   \n",
       "\n",
       "         f1  \n",
       "0  0.680197  \n",
       "1  0.728100  "
      ]
     },
     "metadata": {},
     "output_type": "display_data"
    },
    {
     "data": {
      "text/html": [
       "<div>\n",
       "<style scoped>\n",
       "    .dataframe tbody tr th:only-of-type {\n",
       "        vertical-align: middle;\n",
       "    }\n",
       "\n",
       "    .dataframe tbody tr th {\n",
       "        vertical-align: top;\n",
       "    }\n",
       "\n",
       "    .dataframe thead th {\n",
       "        text-align: right;\n",
       "    }\n",
       "</style>\n",
       "<table border=\"1\" class=\"dataframe\">\n",
       "  <thead>\n",
       "    <tr style=\"text-align: right;\">\n",
       "      <th></th>\n",
       "      <th>model</th>\n",
       "      <th>cv</th>\n",
       "      <th>mean</th>\n",
       "      <th>std</th>\n",
       "      <th>f1</th>\n",
       "    </tr>\n",
       "  </thead>\n",
       "  <tbody>\n",
       "    <tr>\n",
       "      <th>0</th>\n",
       "      <td>Logistic Regression Over</td>\n",
       "      <td>[0.7228576456097132, 0.719023307436182, 0.7222...</td>\n",
       "      <td>0.721365</td>\n",
       "      <td>0.001370</td>\n",
       "      <td>0.675128</td>\n",
       "    </tr>\n",
       "    <tr>\n",
       "      <th>1</th>\n",
       "      <td>Decision Tree Over</td>\n",
       "      <td>[0.8018440767267639, 0.7981764415968458, 0.798...</td>\n",
       "      <td>0.805609</td>\n",
       "      <td>0.007693</td>\n",
       "      <td>0.730001</td>\n",
       "    </tr>\n",
       "  </tbody>\n",
       "</table>\n",
       "</div>"
      ],
      "text/plain": [
       "                      model  \\\n",
       "0  Logistic Regression Over   \n",
       "1        Decision Tree Over   \n",
       "\n",
       "                                                  cv      mean       std  \\\n",
       "0  [0.7228576456097132, 0.719023307436182, 0.7222...  0.721365  0.001370   \n",
       "1  [0.8018440767267639, 0.7981764415968458, 0.798...  0.805609  0.007693   \n",
       "\n",
       "         f1  \n",
       "0  0.675128  \n",
       "1  0.730001  "
      ]
     },
     "metadata": {},
     "output_type": "display_data"
    }
   ],
   "source": [
    "display (model_summary)\n",
    "display (rus_summary)\n",
    "display (ros_summary)"
   ]
  },
  {
   "cell_type": "markdown",
   "metadata": {},
   "source": [
    "# Ensemble"
   ]
  },
  {
   "cell_type": "markdown",
   "metadata": {},
   "source": [
    "- Voting Clasifier"
   ]
  },
  {
   "cell_type": "code",
   "execution_count": 46,
   "metadata": {},
   "outputs": [],
   "source": [
    "from sklearn.ensemble import VotingClassifier"
   ]
  },
  {
   "cell_type": "code",
   "execution_count": 47,
   "metadata": {},
   "outputs": [],
   "source": [
    "vc = VotingClassifier([('model1', logreg_pipe), ('model2', tree_pipe)])"
   ]
  },
  {
   "cell_type": "code",
   "execution_count": 48,
   "metadata": {},
   "outputs": [
    {
     "data": {
      "text/plain": [
       "VotingClassifier(estimators=[('model1',\n",
       "                              Pipeline(steps=[('transformer',\n",
       "                                               ColumnTransformer(remainder='passthrough',\n",
       "                                                                 transformers=[('one '\n",
       "                                                                                'hot',\n",
       "                                                                                OneHotEncoder(handle_unknown='ignore'),\n",
       "                                                                                ['hotel',\n",
       "                                                                                 'meal',\n",
       "                                                                                 'distribution_channel',\n",
       "                                                                                 'deposit_type',\n",
       "                                                                                 'customer_type']),\n",
       "                                                                               ('mode '\n",
       "                                                                                'binary',\n",
       "                                                                                Pipeline(steps=[('encoder',\n",
       "                                                                                                 SimpleImputer(strategy='most_frequent')),\n",
       "                                                                                                ('binary',\n",
       "                                                                                                 BinaryE...\n",
       "                                                                                 'deposit_type',\n",
       "                                                                                 'customer_type']),\n",
       "                                                                               ('mode '\n",
       "                                                                                'binary',\n",
       "                                                                                Pipeline(steps=[('encoder',\n",
       "                                                                                                 SimpleImputer(strategy='most_frequent')),\n",
       "                                                                                                ('binary',\n",
       "                                                                                                 BinaryEncoder())]),\n",
       "                                                                                ['country',\n",
       "                                                                                 'market_segment',\n",
       "                                                                                 'reserved_room_type']),\n",
       "                                                                               ('iterative',\n",
       "                                                                                IterativeImputer(max_iter=5),\n",
       "                                                                                ['children']),\n",
       "                                                                               ('scaler',\n",
       "                                                                                StandardScaler(),\n",
       "                                                                                ['adults'])])),\n",
       "                                              ('model',\n",
       "                                               DecisionTreeClassifier(random_state=2022))]))])"
      ]
     },
     "execution_count": 48,
     "metadata": {},
     "output_type": "execute_result"
    }
   ],
   "source": [
    "vc.fit(X_train, y_train)"
   ]
  },
  {
   "cell_type": "code",
   "execution_count": 49,
   "metadata": {},
   "outputs": [
    {
     "data": {
      "text/plain": [
       "[0.5881558207610899]"
      ]
     },
     "execution_count": 49,
     "metadata": {},
     "output_type": "execute_result"
    }
   ],
   "source": [
    "score_vote = [f1_score(y_test, vc.predict(X_test))]\n",
    "score_vote"
   ]
  },
  {
   "cell_type": "markdown",
   "metadata": {},
   "source": [
    "Karena scorenya turun, maka\n",
    "'Voting Classifier tidak cocok untuk menangani Hotel booking demand'"
   ]
  },
  {
   "cell_type": "code",
   "execution_count": 50,
   "metadata": {},
   "outputs": [],
   "source": [
    "from sklearn.ensemble import RandomForestClassifier"
   ]
  },
  {
   "cell_type": "code",
   "execution_count": 51,
   "metadata": {},
   "outputs": [],
   "source": [
    "rf = RandomForestClassifier(random_state = 2022)"
   ]
  },
  {
   "cell_type": "code",
   "execution_count": 52,
   "metadata": {},
   "outputs": [],
   "source": [
    "rf_pipe = Pipeline ([\n",
    "    ('transformer', transformer),\n",
    "    ('model', rf)\n",
    "])"
   ]
  },
  {
   "cell_type": "code",
   "execution_count": 53,
   "metadata": {},
   "outputs": [],
   "source": [
    "rf_pipe_cv = model_eval(rf_pipe, 'f1')"
   ]
  },
  {
   "cell_type": "code",
   "execution_count": 54,
   "metadata": {},
   "outputs": [
    {
     "data": {
      "text/plain": [
       "[0.724264705882353]"
      ]
     },
     "execution_count": 54,
     "metadata": {},
     "output_type": "execute_result"
    }
   ],
   "source": [
    "rf_pipe.fit(X_train, y_train)\n",
    "score_rf = [f1_score(y_test, rf_pipe.predict(X_test))]\n",
    "score_rf"
   ]
  },
  {
   "cell_type": "markdown",
   "metadata": {},
   "source": [
    "## Hyperparameter tuning"
   ]
  },
  {
   "cell_type": "code",
   "execution_count": 55,
   "metadata": {},
   "outputs": [],
   "source": [
    "from sklearn.model_selection import RandomizedSearchCV"
   ]
  },
  {
   "cell_type": "code",
   "execution_count": 56,
   "metadata": {},
   "outputs": [],
   "source": [
    "estimator = Pipeline ([\n",
    "    ('transformer', transformer),\n",
    "    ('ros', ros),\n",
    "    ('model', tree)\n",
    "    \n",
    "])\n",
    "\n",
    "hyperparam_space = {\n",
    "    'ros__sampling_strategy' : ['minority', 'not minority'],\n",
    "    'model__criterion' : ['gini', 'entropy'],\n",
    "    'model__splitter' : ['best', 'random'],\n",
    "    'model__max_depth' : [3, 5, 7, 9],\n",
    "    'model__random_state' : [2022]\n",
    "}"
   ]
  },
  {
   "cell_type": "code",
   "execution_count": 57,
   "metadata": {},
   "outputs": [
    {
     "name": "stdout",
     "output_type": "stream",
     "text": [
      "best score 0.7134296496195666\n",
      "best_param {'ros__sampling_strategy': 'minority', 'model__splitter': 'best', 'model__random_state': 2022, 'model__max_depth': 9, 'model__criterion': 'gini'}\n"
     ]
    }
   ],
   "source": [
    "random = RandomizedSearchCV(\n",
    "            estimator,\n",
    "            param_distributions = hyperparam_space,\n",
    "            cv = StratifiedKFold(n_splits = 5),\n",
    "            scoring = 'f1',\n",
    "            n_iter = 10,\n",
    "            n_jobs = -1)\n",
    "\n",
    "random.fit(X_train, y_train)\n",
    "\n",
    "print ('best score', random.best_score_)\n",
    "print ('best_param', random.best_params_)"
   ]
  },
  {
   "cell_type": "markdown",
   "metadata": {},
   "source": [
    "## Before dan After Tuning"
   ]
  },
  {
   "cell_type": "code",
   "execution_count": 58,
   "metadata": {},
   "outputs": [],
   "source": [
    "estimator.fit(X_train, y_train)\n",
    "y_pred_estimator = estimator.predict(X_test)\n",
    "before = f1_score(y_test, y_pred_estimator)\n",
    "\n",
    "random.best_estimator_.fit(X_train, y_train)\n",
    "y_predict = random.best_estimator_.predict(X_test)\n",
    "after = f1_score(y_test, y_predict)"
   ]
  },
  {
   "cell_type": "code",
   "execution_count": 59,
   "metadata": {},
   "outputs": [
    {
     "data": {
      "text/html": [
       "<div>\n",
       "<style scoped>\n",
       "    .dataframe tbody tr th:only-of-type {\n",
       "        vertical-align: middle;\n",
       "    }\n",
       "\n",
       "    .dataframe tbody tr th {\n",
       "        vertical-align: top;\n",
       "    }\n",
       "\n",
       "    .dataframe thead th {\n",
       "        text-align: right;\n",
       "    }\n",
       "</style>\n",
       "<table border=\"1\" class=\"dataframe\">\n",
       "  <thead>\n",
       "    <tr style=\"text-align: right;\">\n",
       "      <th></th>\n",
       "      <th>model</th>\n",
       "      <th>score</th>\n",
       "    </tr>\n",
       "  </thead>\n",
       "  <tbody>\n",
       "    <tr>\n",
       "      <th>0</th>\n",
       "      <td>Tree before Tuning</td>\n",
       "      <td>0.730039</td>\n",
       "    </tr>\n",
       "    <tr>\n",
       "      <th>1</th>\n",
       "      <td>Tree after Tuning</td>\n",
       "      <td>0.714003</td>\n",
       "    </tr>\n",
       "  </tbody>\n",
       "</table>\n",
       "</div>"
      ],
      "text/plain": [
       "                model     score\n",
       "0  Tree before Tuning  0.730039\n",
       "1   Tree after Tuning  0.714003"
      ]
     },
     "execution_count": 59,
     "metadata": {},
     "output_type": "execute_result"
    }
   ],
   "source": [
    "score_list = [before, after]\n",
    "model_tuning = ['Tree before Tuning', 'Tree after Tuning']\n",
    "best_summary = pd.DataFrame({\n",
    "    'model' : model_tuning,\n",
    "    'score' : score_list\n",
    "})\n",
    "best_summary"
   ]
  },
  {
   "cell_type": "markdown",
   "metadata": {},
   "source": [
    "## Feature Selection"
   ]
  },
  {
   "cell_type": "code",
   "execution_count": 60,
   "metadata": {},
   "outputs": [
    {
     "data": {
      "text/plain": [
       "ColumnTransformer(remainder='passthrough',\n",
       "                  transformers=[('one hot',\n",
       "                                 OneHotEncoder(handle_unknown='ignore'),\n",
       "                                 ['hotel', 'meal', 'distribution_channel',\n",
       "                                  'deposit_type', 'customer_type']),\n",
       "                                ('mode binary',\n",
       "                                 Pipeline(steps=[('encoder',\n",
       "                                                  SimpleImputer(strategy='most_frequent')),\n",
       "                                                 ('binary', BinaryEncoder())]),\n",
       "                                 ['country', 'market_segment',\n",
       "                                  'reserved_room_type']),\n",
       "                                ('iterative', IterativeImputer(max_iter=5),\n",
       "                                 ['children']),\n",
       "                                ('scaler', StandardScaler(), ['adults'])])"
      ]
     },
     "execution_count": 60,
     "metadata": {},
     "output_type": "execute_result"
    }
   ],
   "source": [
    "transformer"
   ]
  },
  {
   "cell_type": "code",
   "execution_count": 73,
   "metadata": {},
   "outputs": [
    {
     "name": "stdout",
     "output_type": "stream",
     "text": [
      "['x0_City Hotel' 'x0_Resort Hotel' 'x1_BB' 'x1_FB' 'x1_HB' 'x1_SC'\n",
      " 'x1_Undefined' 'x2_Corporate' 'x2_Direct' 'x2_GDS' 'x2_TA/TO'\n",
      " 'x2_Undefined' 'x3_No Deposit' 'x3_Non Refund' 'x3_Refundable'\n",
      " 'x4_Contract' 'x4_Group' 'x4_Transient' 'x4_Transient-Party']\n",
      "['0_0', '0_1', '0_2', '0_3', '0_4', '0_5', '0_6', '0_7', '1_0', '1_1', '1_2', '1_3', '2_0', '2_1', '2_2', '2_3']\n",
      "['children']\n",
      "['adults']\n"
     ]
    }
   ],
   "source": [
    "print(transformer.transformers_[0][1].get_feature_names())\n",
    "print(transformer.transformers_[1][1][1].get_feature_names())\n",
    "print(transformer.transformers_[2][2])\n",
    "print(transformer.transformers_[3][2])"
   ]
  },
  {
   "cell_type": "code",
   "execution_count": 75,
   "metadata": {},
   "outputs": [
    {
     "data": {
      "text/plain": [
       "['x0_City Hotel',\n",
       " 'x0_Resort Hotel',\n",
       " 'x1_BB',\n",
       " 'x1_FB',\n",
       " 'x1_HB',\n",
       " 'x1_SC',\n",
       " 'x1_Undefined',\n",
       " 'x2_Corporate',\n",
       " 'x2_Direct',\n",
       " 'x2_GDS',\n",
       " 'x2_TA/TO',\n",
       " 'x2_Undefined',\n",
       " 'x3_No Deposit',\n",
       " 'x3_Non Refund',\n",
       " 'x3_Refundable',\n",
       " 'x4_Contract',\n",
       " 'x4_Group',\n",
       " 'x4_Transient',\n",
       " 'x4_Transient-Party',\n",
       " '0_0',\n",
       " '0_1',\n",
       " '0_2',\n",
       " '0_3',\n",
       " '0_4',\n",
       " '0_5',\n",
       " '0_6',\n",
       " '0_7',\n",
       " '1_0',\n",
       " '1_1',\n",
       " '1_2',\n",
       " '1_3',\n",
       " '2_0',\n",
       " '2_1',\n",
       " '2_2',\n",
       " '2_3',\n",
       " 'children',\n",
       " 'adults',\n",
       " 'babies',\n",
       " 'booking_changes',\n",
       " 'total_of_special_requests']"
      ]
     },
     "execution_count": 75,
     "metadata": {},
     "output_type": "execute_result"
    }
   ],
   "source": [
    "features = (list(transformer.transformers_[0][1].get_feature_names()) +\n",
    "            transformer.transformers_[1][1][1].get_feature_names() + \n",
    "            transformer.transformers_[2][2] +\n",
    "            transformer.transformers_[3][2] +\n",
    "            [\"babies\", \"booking_changes\", \"total_of_special_requests\"])\n",
    "features"
   ]
  },
  {
   "cell_type": "code",
   "execution_count": 86,
   "metadata": {},
   "outputs": [
    {
     "data": {
      "text/plain": [
       "40"
      ]
     },
     "execution_count": 86,
     "metadata": {},
     "output_type": "execute_result"
    }
   ],
   "source": [
    "len(features)"
   ]
  },
  {
   "cell_type": "code",
   "execution_count": 92,
   "metadata": {},
   "outputs": [
    {
     "data": {
      "text/html": [
       "<div>\n",
       "<style scoped>\n",
       "    .dataframe tbody tr th:only-of-type {\n",
       "        vertical-align: middle;\n",
       "    }\n",
       "\n",
       "    .dataframe tbody tr th {\n",
       "        vertical-align: top;\n",
       "    }\n",
       "\n",
       "    .dataframe thead th {\n",
       "        text-align: right;\n",
       "    }\n",
       "</style>\n",
       "<table border=\"1\" class=\"dataframe\">\n",
       "  <thead>\n",
       "    <tr style=\"text-align: right;\">\n",
       "      <th></th>\n",
       "      <th>f_i</th>\n",
       "    </tr>\n",
       "  </thead>\n",
       "  <tbody>\n",
       "    <tr>\n",
       "      <th>x3_Non Refund</th>\n",
       "      <td>0.472426</td>\n",
       "    </tr>\n",
       "    <tr>\n",
       "      <th>1_1</th>\n",
       "      <td>0.077272</td>\n",
       "    </tr>\n",
       "    <tr>\n",
       "      <th>total_of_special_requests</th>\n",
       "      <td>0.070283</td>\n",
       "    </tr>\n",
       "    <tr>\n",
       "      <th>0_6</th>\n",
       "      <td>0.066242</td>\n",
       "    </tr>\n",
       "    <tr>\n",
       "      <th>0_5</th>\n",
       "      <td>0.063766</td>\n",
       "    </tr>\n",
       "    <tr>\n",
       "      <th>x2_TA/TO</th>\n",
       "      <td>0.060988</td>\n",
       "    </tr>\n",
       "    <tr>\n",
       "      <th>x4_Transient-Party</th>\n",
       "      <td>0.050545</td>\n",
       "    </tr>\n",
       "    <tr>\n",
       "      <th>booking_changes</th>\n",
       "      <td>0.032425</td>\n",
       "    </tr>\n",
       "    <tr>\n",
       "      <th>0_4</th>\n",
       "      <td>0.030504</td>\n",
       "    </tr>\n",
       "    <tr>\n",
       "      <th>x2_Direct</th>\n",
       "      <td>0.014987</td>\n",
       "    </tr>\n",
       "    <tr>\n",
       "      <th>adults</th>\n",
       "      <td>0.013512</td>\n",
       "    </tr>\n",
       "    <tr>\n",
       "      <th>1_2</th>\n",
       "      <td>0.010042</td>\n",
       "    </tr>\n",
       "    <tr>\n",
       "      <th>0_7</th>\n",
       "      <td>0.006509</td>\n",
       "    </tr>\n",
       "    <tr>\n",
       "      <th>x4_Transient</th>\n",
       "      <td>0.005685</td>\n",
       "    </tr>\n",
       "    <tr>\n",
       "      <th>0_2</th>\n",
       "      <td>0.004586</td>\n",
       "    </tr>\n",
       "    <tr>\n",
       "      <th>1_3</th>\n",
       "      <td>0.003766</td>\n",
       "    </tr>\n",
       "    <tr>\n",
       "      <th>x1_HB</th>\n",
       "      <td>0.002488</td>\n",
       "    </tr>\n",
       "    <tr>\n",
       "      <th>x0_City Hotel</th>\n",
       "      <td>0.002293</td>\n",
       "    </tr>\n",
       "    <tr>\n",
       "      <th>children</th>\n",
       "      <td>0.002090</td>\n",
       "    </tr>\n",
       "    <tr>\n",
       "      <th>x1_BB</th>\n",
       "      <td>0.001930</td>\n",
       "    </tr>\n",
       "    <tr>\n",
       "      <th>x0_Resort Hotel</th>\n",
       "      <td>0.001198</td>\n",
       "    </tr>\n",
       "    <tr>\n",
       "      <th>0_3</th>\n",
       "      <td>0.001154</td>\n",
       "    </tr>\n",
       "    <tr>\n",
       "      <th>x4_Group</th>\n",
       "      <td>0.001011</td>\n",
       "    </tr>\n",
       "    <tr>\n",
       "      <th>2_1</th>\n",
       "      <td>0.000969</td>\n",
       "    </tr>\n",
       "    <tr>\n",
       "      <th>x1_SC</th>\n",
       "      <td>0.000703</td>\n",
       "    </tr>\n",
       "    <tr>\n",
       "      <th>x4_Contract</th>\n",
       "      <td>0.000606</td>\n",
       "    </tr>\n",
       "    <tr>\n",
       "      <th>2_3</th>\n",
       "      <td>0.000477</td>\n",
       "    </tr>\n",
       "    <tr>\n",
       "      <th>0_1</th>\n",
       "      <td>0.000398</td>\n",
       "    </tr>\n",
       "    <tr>\n",
       "      <th>x1_Undefined</th>\n",
       "      <td>0.000342</td>\n",
       "    </tr>\n",
       "    <tr>\n",
       "      <th>2_2</th>\n",
       "      <td>0.000311</td>\n",
       "    </tr>\n",
       "    <tr>\n",
       "      <th>x3_Refundable</th>\n",
       "      <td>0.000190</td>\n",
       "    </tr>\n",
       "    <tr>\n",
       "      <th>x2_GDS</th>\n",
       "      <td>0.000161</td>\n",
       "    </tr>\n",
       "    <tr>\n",
       "      <th>x2_Corporate</th>\n",
       "      <td>0.000083</td>\n",
       "    </tr>\n",
       "    <tr>\n",
       "      <th>x1_FB</th>\n",
       "      <td>0.000061</td>\n",
       "    </tr>\n",
       "    <tr>\n",
       "      <th>0_0</th>\n",
       "      <td>0.000000</td>\n",
       "    </tr>\n",
       "    <tr>\n",
       "      <th>1_0</th>\n",
       "      <td>0.000000</td>\n",
       "    </tr>\n",
       "    <tr>\n",
       "      <th>2_0</th>\n",
       "      <td>0.000000</td>\n",
       "    </tr>\n",
       "    <tr>\n",
       "      <th>x2_Undefined</th>\n",
       "      <td>0.000000</td>\n",
       "    </tr>\n",
       "    <tr>\n",
       "      <th>x3_No Deposit</th>\n",
       "      <td>0.000000</td>\n",
       "    </tr>\n",
       "    <tr>\n",
       "      <th>babies</th>\n",
       "      <td>0.000000</td>\n",
       "    </tr>\n",
       "  </tbody>\n",
       "</table>\n",
       "</div>"
      ],
      "text/plain": [
       "                                f_i\n",
       "x3_Non Refund              0.472426\n",
       "1_1                        0.077272\n",
       "total_of_special_requests  0.070283\n",
       "0_6                        0.066242\n",
       "0_5                        0.063766\n",
       "x2_TA/TO                   0.060988\n",
       "x4_Transient-Party         0.050545\n",
       "booking_changes            0.032425\n",
       "0_4                        0.030504\n",
       "x2_Direct                  0.014987\n",
       "adults                     0.013512\n",
       "1_2                        0.010042\n",
       "0_7                        0.006509\n",
       "x4_Transient               0.005685\n",
       "0_2                        0.004586\n",
       "1_3                        0.003766\n",
       "x1_HB                      0.002488\n",
       "x0_City Hotel              0.002293\n",
       "children                   0.002090\n",
       "x1_BB                      0.001930\n",
       "x0_Resort Hotel            0.001198\n",
       "0_3                        0.001154\n",
       "x4_Group                   0.001011\n",
       "2_1                        0.000969\n",
       "x1_SC                      0.000703\n",
       "x4_Contract                0.000606\n",
       "2_3                        0.000477\n",
       "0_1                        0.000398\n",
       "x1_Undefined               0.000342\n",
       "2_2                        0.000311\n",
       "x3_Refundable              0.000190\n",
       "x2_GDS                     0.000161\n",
       "x2_Corporate               0.000083\n",
       "x1_FB                      0.000061\n",
       "0_0                        0.000000\n",
       "1_0                        0.000000\n",
       "2_0                        0.000000\n",
       "x2_Undefined               0.000000\n",
       "x3_No Deposit              0.000000\n",
       "babies                     0.000000"
      ]
     },
     "execution_count": 92,
     "metadata": {},
     "output_type": "execute_result"
    }
   ],
   "source": [
    "feautre_importances = pd.DataFrame(data = random.best_estimator_[2].feature_importances_, index = features, columns = [\"f_i\"])\n",
    "feautre_importances.sort_values(by = [\"f_i\"], ascending = False, inplace = True)\n",
    "feautre_importances"
   ]
  },
  {
   "cell_type": "code",
   "execution_count": 96,
   "metadata": {},
   "outputs": [
    {
     "data": {
      "text/plain": [
       "<AxesSubplot:>"
      ]
     },
     "execution_count": 96,
     "metadata": {},
     "output_type": "execute_result"
    },
    {
     "data": {
      "image/png": "[encoded data removed]",
      "text/plain": [
       "<Figure size 1080x720 with 1 Axes>"
      ]
     },
     "metadata": {
      "needs_background": "light"
     },
     "output_type": "display_data"
    }
   ],
   "source": [
    "feautre_importances.plot(kind = \"barh\", figsize = (15,10))"
   ]
  },
  {
   "cell_type": "markdown",
   "metadata": {},
   "source": [
    "## Using Machine Learning"
   ]
  },
  {
   "cell_type": "code",
   "execution_count": null,
   "metadata": {},
   "outputs": [],
   "source": [
    "import pickle"
   ]
  },
  {
   "cell_type": "code",
   "execution_count": null,
   "metadata": {},
   "outputs": [],
   "source": [
    "file_name = 'hotel_model.sav'\n",
    "\n",
    "pickle.dump(estimator, open (file_name, 'vb'))"
   ]
  },
  {
   "cell_type": "code",
   "execution_count": null,
   "metadata": {},
   "outputs": [],
   "source": [
    "hotel_pred = pd.DataFrame({\n",
    "    'hotel' : ['Resort_Hotel'],\n",
    "    'adults' : [3],\n",
    "    'children' : [0],\n",
    "    'babies' : [0],\n",
    "    'meal' : ['HB'],\n",
    "    'country' : ['FRA'],\n",
    "    'market_segment' : ['Offline TA/TO'],\n",
    "    'distribution_channel' : ['C'],\n",
    "    'booking_changes' : [2],\n",
    "    'deposit_type' : ['Deposit'],\n",
    "    'customer_type' : ['Transient'],\n",
    "    'total_of_special_request' : [0]\n",
    "})"
   ]
  },
  {
   "cell_type": "code",
   "execution_count": null,
   "metadata": {},
   "outputs": [],
   "source": [
    "loaded_model.predict(hotel_pred)"
   ]
  },
  {
   "cell_type": "code",
   "execution_count": null,
   "metadata": {},
   "outputs": [],
   "source": [
    "loaded_model.predict_proba(hotel_pred)"
   ]
  }
 ],
 "metadata": {
  "kernelspec": {
   "display_name": "Python 3 (ipykernel)",
   "language": "python",
   "name": "python3"
  },
  "language_info": {
   "codemirror_mode": {
    "name": "ipython",
    "version": 3
   },
   "file_extension": ".py",
   "mimetype": "text/x-python",
   "name": "python",
   "nbconvert_exporter": "python",
   "pygments_lexer": "ipython3",
   "version": "3.9.7"
  }
 },
 "nbformat": 4,
 "nbformat_minor": 4
}
